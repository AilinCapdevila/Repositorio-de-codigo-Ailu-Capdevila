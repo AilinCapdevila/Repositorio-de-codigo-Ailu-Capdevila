{
 "cells": [
  {
   "cell_type": "markdown",
   "metadata": {},
   "source": [
    "**ClusterAI 2021\n",
    "Ciencia de Datos - Ingenieria Industrial UTN BA <br>\n",
    "Curso I5521 <br>\n",
    "Clase00: Asignaciones SUBTE**  <br>"
   ]
  },
  {
   "cell_type": "markdown",
   "metadata": {},
   "source": [
    "**Asignacion 01: Importar las librerías aprendidas en la clase_00:** "
   ]
  },
  {
   "cell_type": "code",
   "execution_count": 4,
   "metadata": {},
   "outputs": [],
   "source": [
    "# importamos las librerías necesarias para trabajar en el siguiente bloque de código\n",
    "import numpy as np\n",
    "import matplotlib.pyplot as plt\n",
    "import seaborn as sns\n",
    "import pandas as pd\n"
   ]
  },
  {
   "cell_type": "markdown",
   "metadata": {
    "collapsed": true
   },
   "source": [
    "**Asignacion 02:** Descargamos de https://data.buenosaires.gob.ar/dataset/subte-viajes-molinetes el dataset de usuarios de subte por molinete del año 2016. Luego con el comando de Pandas \"pd.read_csv\" importar el dataset. Solicitar que el indice de nuestro dataframe importado sea la columna \"PERIODO\" del archvo .csv que manejamos. Guardar el dataset importado con el nombre \"molinetes16\"."
   ]
  },
  {
   "cell_type": "code",
   "execution_count": 5,
   "metadata": {},
   "outputs": [],
   "source": [
    "# Importar el dataset detallado en el siguiente bloque de codigo.\n",
    "molinetes16_df = pd.read_csv('molinetes_2016.csv', delimiter=';', header = 0)"
   ]
  },
  {
   "cell_type": "markdown",
   "metadata": {},
   "source": [
    "**Asignacion 03:** visualizar las primeras 5 filas del dataset importado \"molinetes16\""
   ]
  },
  {
   "cell_type": "code",
   "execution_count": 6,
   "metadata": {},
   "outputs": [
    {
     "data": {
      "text/html": [
       "<div>\n",
       "<style scoped>\n",
       "    .dataframe tbody tr th:only-of-type {\n",
       "        vertical-align: middle;\n",
       "    }\n",
       "\n",
       "    .dataframe tbody tr th {\n",
       "        vertical-align: top;\n",
       "    }\n",
       "\n",
       "    .dataframe thead th {\n",
       "        text-align: right;\n",
       "    }\n",
       "</style>\n",
       "<table border=\"1\" class=\"dataframe\">\n",
       "  <thead>\n",
       "    <tr style=\"text-align: right;\">\n",
       "      <th></th>\n",
       "      <th>PERIODO</th>\n",
       "      <th>FECHA</th>\n",
       "      <th>DESDE</th>\n",
       "      <th>HASTA</th>\n",
       "      <th>LINEA</th>\n",
       "      <th>MOLINETE</th>\n",
       "      <th>ESTACION</th>\n",
       "      <th>PAX_PAGOS</th>\n",
       "      <th>PAX_PASES_PAGOS</th>\n",
       "      <th>PAX_FRANQ</th>\n",
       "      <th>TOTAL</th>\n",
       "    </tr>\n",
       "  </thead>\n",
       "  <tbody>\n",
       "    <tr>\n",
       "      <th>0</th>\n",
       "      <td>201601</td>\n",
       "      <td>02/01/2016</td>\n",
       "      <td>05:00:00</td>\n",
       "      <td>05:15:00</td>\n",
       "      <td>LINEA_A</td>\n",
       "      <td>LINEA_A_CARABOBO_E_TURN03</td>\n",
       "      <td>CARABOBO</td>\n",
       "      <td>1</td>\n",
       "      <td>0</td>\n",
       "      <td>0</td>\n",
       "      <td>1</td>\n",
       "    </tr>\n",
       "    <tr>\n",
       "      <th>1</th>\n",
       "      <td>201601</td>\n",
       "      <td>02/01/2016</td>\n",
       "      <td>05:00:00</td>\n",
       "      <td>05:15:00</td>\n",
       "      <td>LINEA_A</td>\n",
       "      <td>LINEA_A_LIMA_S_TURN03</td>\n",
       "      <td>LIMA</td>\n",
       "      <td>1</td>\n",
       "      <td>0</td>\n",
       "      <td>0</td>\n",
       "      <td>1</td>\n",
       "    </tr>\n",
       "    <tr>\n",
       "      <th>2</th>\n",
       "      <td>201601</td>\n",
       "      <td>02/01/2016</td>\n",
       "      <td>05:00:00</td>\n",
       "      <td>05:15:00</td>\n",
       "      <td>LINEA_A</td>\n",
       "      <td>LINEA_A_RJANEIRO_S_TURN01</td>\n",
       "      <td>RIO DE JANEIRO</td>\n",
       "      <td>1</td>\n",
       "      <td>0</td>\n",
       "      <td>0</td>\n",
       "      <td>1</td>\n",
       "    </tr>\n",
       "    <tr>\n",
       "      <th>3</th>\n",
       "      <td>201601</td>\n",
       "      <td>02/01/2016</td>\n",
       "      <td>05:00:00</td>\n",
       "      <td>05:15:00</td>\n",
       "      <td>LINEA_A</td>\n",
       "      <td>LINEA_A_SANPEDRITO_ESTE_TURN05</td>\n",
       "      <td>SAN PEDRITO</td>\n",
       "      <td>0</td>\n",
       "      <td>0</td>\n",
       "      <td>0</td>\n",
       "      <td>0</td>\n",
       "    </tr>\n",
       "    <tr>\n",
       "      <th>4</th>\n",
       "      <td>201601</td>\n",
       "      <td>02/01/2016</td>\n",
       "      <td>05:00:00</td>\n",
       "      <td>05:15:00</td>\n",
       "      <td>LINEA_A</td>\n",
       "      <td>LINEA_A_SANPEDRITO_OESTE_TURN02</td>\n",
       "      <td>SAN PEDRITO</td>\n",
       "      <td>1</td>\n",
       "      <td>0</td>\n",
       "      <td>0</td>\n",
       "      <td>1</td>\n",
       "    </tr>\n",
       "  </tbody>\n",
       "</table>\n",
       "</div>"
      ],
      "text/plain": [
       "   PERIODO       FECHA     DESDE     HASTA    LINEA  \\\n",
       "0   201601  02/01/2016  05:00:00  05:15:00  LINEA_A   \n",
       "1   201601  02/01/2016  05:00:00  05:15:00  LINEA_A   \n",
       "2   201601  02/01/2016  05:00:00  05:15:00  LINEA_A   \n",
       "3   201601  02/01/2016  05:00:00  05:15:00  LINEA_A   \n",
       "4   201601  02/01/2016  05:00:00  05:15:00  LINEA_A   \n",
       "\n",
       "                          MOLINETE        ESTACION  PAX_PAGOS  \\\n",
       "0        LINEA_A_CARABOBO_E_TURN03        CARABOBO          1   \n",
       "1            LINEA_A_LIMA_S_TURN03            LIMA          1   \n",
       "2        LINEA_A_RJANEIRO_S_TURN01  RIO DE JANEIRO          1   \n",
       "3   LINEA_A_SANPEDRITO_ESTE_TURN05     SAN PEDRITO          0   \n",
       "4  LINEA_A_SANPEDRITO_OESTE_TURN02     SAN PEDRITO          1   \n",
       "\n",
       "   PAX_PASES_PAGOS  PAX_FRANQ  TOTAL  \n",
       "0                0          0      1  \n",
       "1                0          0      1  \n",
       "2                0          0      1  \n",
       "3                0          0      0  \n",
       "4                0          0      1  "
      ]
     },
     "execution_count": 6,
     "metadata": {},
     "output_type": "execute_result"
    }
   ],
   "source": [
    "# visualizar en este bloque de codigo las primeras 5 filas del dataset importado.\n",
    "molinetes16_df.head(5)"
   ]
  },
  {
   "cell_type": "markdown",
   "metadata": {},
   "source": [
    "**Asignacion 04:** imprimir en pantalla utilizando el comando \"print\" la cantidad de filas y renglones que tiene este nuevo dataset."
   ]
  },
  {
   "cell_type": "code",
   "execution_count": 7,
   "metadata": {},
   "outputs": [
    {
     "data": {
      "text/plain": [
       "(11542333, 11)"
      ]
     },
     "execution_count": 7,
     "metadata": {},
     "output_type": "execute_result"
    }
   ],
   "source": [
    "# imprimir en pantalla utilizando este bloque de codigo la cantidad de filas y renglones que tiene el dataset.\n",
    "np.shape(molinetes16_df)"
   ]
  },
  {
   "cell_type": "markdown",
   "metadata": {},
   "source": [
    "**Asignacion 05:** revisar si existe alguna columna que tenga valores faltantes o nulos (NaNs), luego imprimir en pantalla el reporte de que columnas tienen valores faltantes."
   ]
  },
  {
   "cell_type": "code",
   "execution_count": 8,
   "metadata": {},
   "outputs": [
    {
     "name": "stdout",
     "output_type": "stream",
     "text": [
      "PERIODO            False\n",
      "FECHA              False\n",
      "DESDE              False\n",
      "HASTA              False\n",
      "LINEA              False\n",
      "MOLINETE           False\n",
      "ESTACION           False\n",
      "PAX_PAGOS          False\n",
      "PAX_PASES_PAGOS    False\n",
      "PAX_FRANQ          False\n",
      "TOTAL              False\n",
      "dtype: bool \r\n",
      "\n"
     ]
    }
   ],
   "source": [
    "# Revisar que columnas tienen valores faltantes en el dataset molinetes16\n",
    "col_NaN = molinetes16_df.isnull().any()\n",
    "print(col_NaN,'\\r\\n')"
   ]
  },
  {
   "cell_type": "code",
   "execution_count": 9,
   "metadata": {},
   "outputs": [
    {
     "data": {
      "text/plain": [
       "PERIODO            0\n",
       "FECHA              0\n",
       "DESDE              0\n",
       "HASTA              0\n",
       "LINEA              0\n",
       "MOLINETE           0\n",
       "ESTACION           0\n",
       "PAX_PAGOS          0\n",
       "PAX_PASES_PAGOS    0\n",
       "PAX_FRANQ          0\n",
       "TOTAL              0\n",
       "dtype: int64"
      ]
     },
     "execution_count": 9,
     "metadata": {},
     "output_type": "execute_result"
    }
   ],
   "source": [
    "# Revisar que cantidad de columnas tienen valores faltantes en el dataset molinetes16\n",
    "total = molinetes16_df.isnull().sum().sort_values(ascending=False)\n",
    "total"
   ]
  },
  {
   "cell_type": "markdown",
   "metadata": {},
   "source": [
    "**Asignacion 06:** Guardar en una variable llamada \"cols\" las columnas del dataframe \"molinetes16\"."
   ]
  },
  {
   "cell_type": "code",
   "execution_count": 10,
   "metadata": {},
   "outputs": [],
   "source": [
    "# Guardar en este bloque de codigo las columnas del dataframe \"molinetes16\".\n",
    "cols=molinetes16_df.columns"
   ]
  },
  {
   "cell_type": "markdown",
   "metadata": {},
   "source": [
    "**Asignacion 07:** Guardar en una variable llamada \"instancias\" los indices del dataframe \"molinetes16\"."
   ]
  },
  {
   "cell_type": "code",
   "execution_count": 11,
   "metadata": {},
   "outputs": [],
   "source": [
    "# Guardar en este bloque de codigo los nombres de los indices del dataframe \"molinetes16\".\n",
    "instancias=molinetes16_df.index"
   ]
  },
  {
   "cell_type": "markdown",
   "metadata": {},
   "source": [
    "**Asignacion 08:** filtrar el dataframe \"molinetes16\" por aquellas instancias que correspondan a la Linea D y guardar esos resultados en un nuevo dataframe que se llame \"molinetes_d\"."
   ]
  },
  {
   "cell_type": "code",
   "execution_count": 12,
   "metadata": {},
   "outputs": [
    {
     "data": {
      "text/html": [
       "<div>\n",
       "<style scoped>\n",
       "    .dataframe tbody tr th:only-of-type {\n",
       "        vertical-align: middle;\n",
       "    }\n",
       "\n",
       "    .dataframe tbody tr th {\n",
       "        vertical-align: top;\n",
       "    }\n",
       "\n",
       "    .dataframe thead th {\n",
       "        text-align: right;\n",
       "    }\n",
       "</style>\n",
       "<table border=\"1\" class=\"dataframe\">\n",
       "  <thead>\n",
       "    <tr style=\"text-align: right;\">\n",
       "      <th></th>\n",
       "      <th>PERIODO</th>\n",
       "      <th>FECHA</th>\n",
       "      <th>DESDE</th>\n",
       "      <th>HASTA</th>\n",
       "      <th>LINEA</th>\n",
       "      <th>MOLINETE</th>\n",
       "      <th>ESTACION</th>\n",
       "      <th>PAX_PAGOS</th>\n",
       "      <th>PAX_PASES_PAGOS</th>\n",
       "      <th>PAX_FRANQ</th>\n",
       "      <th>TOTAL</th>\n",
       "    </tr>\n",
       "  </thead>\n",
       "  <tbody>\n",
       "    <tr>\n",
       "      <th>537221</th>\n",
       "      <td>201601</td>\n",
       "      <td>02/01/2016</td>\n",
       "      <td>05:00:00</td>\n",
       "      <td>05:15:00</td>\n",
       "      <td>LINEA_D</td>\n",
       "      <td>LINEA_D_AGUERO_TURN01</td>\n",
       "      <td>AGUERO</td>\n",
       "      <td>1</td>\n",
       "      <td>0</td>\n",
       "      <td>0</td>\n",
       "      <td>1</td>\n",
       "    </tr>\n",
       "    <tr>\n",
       "      <th>537222</th>\n",
       "      <td>201601</td>\n",
       "      <td>02/01/2016</td>\n",
       "      <td>05:00:00</td>\n",
       "      <td>05:15:00</td>\n",
       "      <td>LINEA_D</td>\n",
       "      <td>LINEA_D_CATEDRAL_O_TURN02</td>\n",
       "      <td>CATEDRAL</td>\n",
       "      <td>1</td>\n",
       "      <td>0</td>\n",
       "      <td>0</td>\n",
       "      <td>1</td>\n",
       "    </tr>\n",
       "    <tr>\n",
       "      <th>537223</th>\n",
       "      <td>201601</td>\n",
       "      <td>02/01/2016</td>\n",
       "      <td>05:00:00</td>\n",
       "      <td>05:15:00</td>\n",
       "      <td>LINEA_D</td>\n",
       "      <td>LINEA_D_FMEDICINA_S_TURN02</td>\n",
       "      <td>FACULTAD DE MEDICINA</td>\n",
       "      <td>1</td>\n",
       "      <td>0</td>\n",
       "      <td>0</td>\n",
       "      <td>1</td>\n",
       "    </tr>\n",
       "    <tr>\n",
       "      <th>537224</th>\n",
       "      <td>201601</td>\n",
       "      <td>02/01/2016</td>\n",
       "      <td>05:00:00</td>\n",
       "      <td>05:15:00</td>\n",
       "      <td>LINEA_D</td>\n",
       "      <td>LINEA_D_PALERMO_TURN02</td>\n",
       "      <td>PALERMO</td>\n",
       "      <td>2</td>\n",
       "      <td>0</td>\n",
       "      <td>0</td>\n",
       "      <td>2</td>\n",
       "    </tr>\n",
       "    <tr>\n",
       "      <th>537225</th>\n",
       "      <td>201601</td>\n",
       "      <td>02/01/2016</td>\n",
       "      <td>05:00:00</td>\n",
       "      <td>05:15:00</td>\n",
       "      <td>LINEA_D</td>\n",
       "      <td>LINEA_D_CARRANZA_TURN02</td>\n",
       "      <td>MINISTRO CARRANZA</td>\n",
       "      <td>1</td>\n",
       "      <td>0</td>\n",
       "      <td>0</td>\n",
       "      <td>1</td>\n",
       "    </tr>\n",
       "    <tr>\n",
       "      <th>...</th>\n",
       "      <td>...</td>\n",
       "      <td>...</td>\n",
       "      <td>...</td>\n",
       "      <td>...</td>\n",
       "      <td>...</td>\n",
       "      <td>...</td>\n",
       "      <td>...</td>\n",
       "      <td>...</td>\n",
       "      <td>...</td>\n",
       "      <td>...</td>\n",
       "      <td>...</td>\n",
       "    </tr>\n",
       "    <tr>\n",
       "      <th>11357743</th>\n",
       "      <td>201612</td>\n",
       "      <td>31/12/2016</td>\n",
       "      <td>09:45:00</td>\n",
       "      <td>10:00:00</td>\n",
       "      <td>LINEA_D</td>\n",
       "      <td>LINEA_D_CONGRESOTUC_S_TURN01</td>\n",
       "      <td>CONGRESO DE TUCUMAN</td>\n",
       "      <td>3</td>\n",
       "      <td>0</td>\n",
       "      <td>1</td>\n",
       "      <td>4</td>\n",
       "    </tr>\n",
       "    <tr>\n",
       "      <th>11357744</th>\n",
       "      <td>201612</td>\n",
       "      <td>31/12/2016</td>\n",
       "      <td>09:45:00</td>\n",
       "      <td>10:00:00</td>\n",
       "      <td>LINEA_D</td>\n",
       "      <td>LINEA_D_OLLEROS_ESTE_TURN04</td>\n",
       "      <td>OLLEROS</td>\n",
       "      <td>0</td>\n",
       "      <td>0</td>\n",
       "      <td>3</td>\n",
       "      <td>3</td>\n",
       "    </tr>\n",
       "    <tr>\n",
       "      <th>11357745</th>\n",
       "      <td>201612</td>\n",
       "      <td>31/12/2016</td>\n",
       "      <td>09:45:00</td>\n",
       "      <td>10:00:00</td>\n",
       "      <td>LINEA_D</td>\n",
       "      <td>LINEA_D_OLLEROS_OESTE_TURN01</td>\n",
       "      <td>OLLEROS</td>\n",
       "      <td>2</td>\n",
       "      <td>0</td>\n",
       "      <td>0</td>\n",
       "      <td>2</td>\n",
       "    </tr>\n",
       "    <tr>\n",
       "      <th>11357746</th>\n",
       "      <td>201612</td>\n",
       "      <td>31/12/2016</td>\n",
       "      <td>09:45:00</td>\n",
       "      <td>10:00:00</td>\n",
       "      <td>LINEA_D</td>\n",
       "      <td>LINEA_D_SCAL_ORTIZ_NORTE_TURN02</td>\n",
       "      <td>SCALABRINI ORTIZ</td>\n",
       "      <td>8</td>\n",
       "      <td>0</td>\n",
       "      <td>0</td>\n",
       "      <td>8</td>\n",
       "    </tr>\n",
       "    <tr>\n",
       "      <th>11357747</th>\n",
       "      <td>201612</td>\n",
       "      <td>31/12/2016</td>\n",
       "      <td>09:45:00</td>\n",
       "      <td>10:00:00</td>\n",
       "      <td>LINEA_D</td>\n",
       "      <td>LINEA_D_SCAL_ORTIZ_SUR_TURN02</td>\n",
       "      <td>SCALABRINI ORTIZ</td>\n",
       "      <td>11</td>\n",
       "      <td>1</td>\n",
       "      <td>0</td>\n",
       "      <td>12</td>\n",
       "    </tr>\n",
       "  </tbody>\n",
       "</table>\n",
       "<p>2547838 rows × 11 columns</p>\n",
       "</div>"
      ],
      "text/plain": [
       "          PERIODO       FECHA     DESDE     HASTA    LINEA  \\\n",
       "537221     201601  02/01/2016  05:00:00  05:15:00  LINEA_D   \n",
       "537222     201601  02/01/2016  05:00:00  05:15:00  LINEA_D   \n",
       "537223     201601  02/01/2016  05:00:00  05:15:00  LINEA_D   \n",
       "537224     201601  02/01/2016  05:00:00  05:15:00  LINEA_D   \n",
       "537225     201601  02/01/2016  05:00:00  05:15:00  LINEA_D   \n",
       "...           ...         ...       ...       ...      ...   \n",
       "11357743   201612  31/12/2016  09:45:00  10:00:00  LINEA_D   \n",
       "11357744   201612  31/12/2016  09:45:00  10:00:00  LINEA_D   \n",
       "11357745   201612  31/12/2016  09:45:00  10:00:00  LINEA_D   \n",
       "11357746   201612  31/12/2016  09:45:00  10:00:00  LINEA_D   \n",
       "11357747   201612  31/12/2016  09:45:00  10:00:00  LINEA_D   \n",
       "\n",
       "                                 MOLINETE              ESTACION  PAX_PAGOS  \\\n",
       "537221              LINEA_D_AGUERO_TURN01                AGUERO          1   \n",
       "537222          LINEA_D_CATEDRAL_O_TURN02              CATEDRAL          1   \n",
       "537223         LINEA_D_FMEDICINA_S_TURN02  FACULTAD DE MEDICINA          1   \n",
       "537224             LINEA_D_PALERMO_TURN02               PALERMO          2   \n",
       "537225            LINEA_D_CARRANZA_TURN02     MINISTRO CARRANZA          1   \n",
       "...                                   ...                   ...        ...   \n",
       "11357743     LINEA_D_CONGRESOTUC_S_TURN01   CONGRESO DE TUCUMAN          3   \n",
       "11357744      LINEA_D_OLLEROS_ESTE_TURN04               OLLEROS          0   \n",
       "11357745     LINEA_D_OLLEROS_OESTE_TURN01               OLLEROS          2   \n",
       "11357746  LINEA_D_SCAL_ORTIZ_NORTE_TURN02      SCALABRINI ORTIZ          8   \n",
       "11357747    LINEA_D_SCAL_ORTIZ_SUR_TURN02      SCALABRINI ORTIZ         11   \n",
       "\n",
       "          PAX_PASES_PAGOS  PAX_FRANQ  TOTAL  \n",
       "537221                  0          0      1  \n",
       "537222                  0          0      1  \n",
       "537223                  0          0      1  \n",
       "537224                  0          0      2  \n",
       "537225                  0          0      1  \n",
       "...                   ...        ...    ...  \n",
       "11357743                0          1      4  \n",
       "11357744                0          3      3  \n",
       "11357745                0          0      2  \n",
       "11357746                0          0      8  \n",
       "11357747                1          0     12  \n",
       "\n",
       "[2547838 rows x 11 columns]"
      ]
     },
     "execution_count": 12,
     "metadata": {},
     "output_type": "execute_result"
    }
   ],
   "source": [
    "# en este bloque de codigo crear el dataframe \"molinetes_d\".\n",
    "molinetes_d = molinetes16_df.loc[molinetes16_df['LINEA'] == 'LINEA_D']\n",
    "molinetes_d"
   ]
  },
  {
   "cell_type": "markdown",
   "metadata": {},
   "source": [
    "**Asignacion 09:** Visualizar utilizando la función Countplot de Seaborn, cuantos viajes de molinete hay por estación para la linea D."
   ]
  },
  {
   "cell_type": "code",
   "execution_count": 19,
   "metadata": {},
   "outputs": [
    {
     "data": {
      "image/png": "[encoded data removed]",
      "text/plain": [
       "<Figure size 432x288 with 1 Axes>"
      ]
     },
     "metadata": {
      "needs_background": "light"
     },
     "output_type": "display_data"
    }
   ],
   "source": [
    "# Visualizar lo solicitado en este bloque de codigo\n",
    "ax = sns.countplot(x=\"ESTACION\",data=molinetes_d)\n",
    "ax.set_xticklabels(ax.get_xticklabels(), rotation=40, ha=\"right\")\n",
    "plt.title(\"Cantidad de viajes de molinete hay por estación para la linea D\")\n",
    "plt.show()"
   ]
  },
  {
   "cell_type": "markdown",
   "metadata": {},
   "source": [
    "**Asignacion 10: ** Calcular la media, minimo, maximo, cuartiles, de la columna 'TOTAL' del dataframe \"molinetes_d\". "
   ]
  },
  {
   "cell_type": "code",
   "execution_count": 20,
   "metadata": {},
   "outputs": [
    {
     "data": {
      "text/plain": [
       "count    2.547838e+06\n",
       "mean     3.257696e+01\n",
       "std      3.188915e+01\n",
       "min      0.000000e+00\n",
       "25%      7.000000e+00\n",
       "50%      2.300000e+01\n",
       "75%      4.900000e+01\n",
       "max      3.290000e+02\n",
       "Name: TOTAL, dtype: float64"
      ]
     },
     "execution_count": 20,
     "metadata": {},
     "output_type": "execute_result"
    }
   ],
   "source": [
    "# Calcular las estadisticas descriptivas en este bloque de codigo.\n",
    "molinetes_d['TOTAL'].describe()"
   ]
  },
  {
   "cell_type": "code",
   "execution_count": null,
   "metadata": {},
   "outputs": [],
   "source": []
  }
 ],
 "metadata": {
  "kernelspec": {
   "display_name": "Python 3",
   "language": "python",
   "name": "python3"
  },
  "language_info": {
   "codemirror_mode": {
    "name": "ipython",
    "version": 3
   },
   "file_extension": ".py",
   "mimetype": "text/x-python",
   "name": "python",
   "nbconvert_exporter": "python",
   "pygments_lexer": "ipython3",
   "version": "3.8.8"
  }
 },
 "nbformat": 4,
 "nbformat_minor": 2
}
